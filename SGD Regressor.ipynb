{
 "cells": [
  {
   "cell_type": "code",
   "execution_count": 65,
   "id": "a4069c1a",
   "metadata": {},
   "outputs": [],
   "source": [
    "import pandas as pd\n",
    "import numpy as np\n",
    "from sklearn.datasets import load_diabetes"
   ]
  },
  {
   "cell_type": "code",
   "execution_count": 66,
   "id": "804dd816",
   "metadata": {},
   "outputs": [],
   "source": [
    "X, y = load_diabetes(return_X_y=True)"
   ]
  },
  {
   "cell_type": "code",
   "execution_count": 67,
   "id": "b34ea062",
   "metadata": {},
   "outputs": [],
   "source": [
    "from sklearn.model_selection import train_test_split\n",
    "X_train, X_test, y_train, y_test = train_test_split(X,y,test_size=0.2,random_state=42)"
   ]
  },
  {
   "cell_type": "code",
   "execution_count": 68,
   "id": "92676100",
   "metadata": {},
   "outputs": [],
   "source": [
    "class SGD:\n",
    "    def __init__(self,learning_rate,epochs):\n",
    "        self.lr = learning_rate\n",
    "        self.epochs = epochs\n",
    "        self.beta = None\n",
    "    \n",
    "    def fit(self,x,y):\n",
    "        x = np.insert(x,0,1,axis=1)\n",
    "        self.beta = np.ones((x.shape[1],1))\n",
    "        \n",
    "        for i in range(self.epochs):\n",
    "            j = np.random.randint(0,x.shape[0])\n",
    "            x_j = x[j].reshape(1,-1)\n",
    "            y_cap_j = np.dot(x[j],self.beta)\n",
    "            der = -2 * (y[j]-y_cap_j) * x_j.T\n",
    "            self.beta = self.beta - self.lr * der\n",
    "        print(self.beta)\n",
    "    \n",
    "    def predict(self,X):\n",
    "        X = np.insert(X,0,1,axis=1)\n",
    "        return np.dot(X,self.beta)          "
   ]
  },
  {
   "cell_type": "code",
   "execution_count": 69,
   "id": "7979a8e1",
   "metadata": {},
   "outputs": [],
   "source": [
    "sgd = SGD(0.05,10000)"
   ]
  },
  {
   "cell_type": "code",
   "execution_count": 70,
   "id": "bf0b6f5e",
   "metadata": {},
   "outputs": [
    {
     "name": "stdout",
     "output_type": "stream",
     "text": [
      "[[ 156.20558658]\n",
      " [  47.29213112]\n",
      " [-206.5661679 ]\n",
      " [ 488.63182984]\n",
      " [ 323.27174945]\n",
      " [ -68.40501445]\n",
      " [-121.34533701]\n",
      " [-213.24382803]\n",
      " [ 145.75086253]\n",
      " [ 373.40588498]\n",
      " [ 100.28838345]]\n"
     ]
    }
   ],
   "source": [
    "sgd.fit(X_train,y_train)"
   ]
  },
  {
   "cell_type": "code",
   "execution_count": 71,
   "id": "df28b5e1",
   "metadata": {},
   "outputs": [],
   "source": [
    "y_pred = sgd.predict(X_test)"
   ]
  },
  {
   "cell_type": "code",
   "execution_count": 72,
   "id": "8c627c76",
   "metadata": {},
   "outputs": [
    {
     "name": "stdout",
     "output_type": "stream",
     "text": [
      "0.4615262540965267\n"
     ]
    }
   ],
   "source": [
    "from sklearn.metrics import r2_score\n",
    "print(r2_score(y_test,y_pred))"
   ]
  },
  {
   "cell_type": "code",
   "execution_count": null,
   "id": "72fd4155",
   "metadata": {},
   "outputs": [],
   "source": []
  }
 ],
 "metadata": {
  "kernelspec": {
   "display_name": "Python 3 (ipykernel)",
   "language": "python",
   "name": "python3"
  },
  "language_info": {
   "codemirror_mode": {
    "name": "ipython",
    "version": 3
   },
   "file_extension": ".py",
   "mimetype": "text/x-python",
   "name": "python",
   "nbconvert_exporter": "python",
   "pygments_lexer": "ipython3",
   "version": "3.13.5"
  }
 },
 "nbformat": 4,
 "nbformat_minor": 5
}
